{
 "cells": [
  {
   "cell_type": "markdown",
   "id": "ace35312",
   "metadata": {},
   "source": [
    "## Estimation of the payoff of the European Call Option using Quantum circuits"
   ]
  },
  {
   "cell_type": "code",
   "execution_count": 1,
   "id": "0fd60740",
   "metadata": {},
   "outputs": [],
   "source": [
    "from qiskit import QuantumCircuit,QuantumRegister,ClassicalRegister\n",
    "from qiskit_finance.circuit.library import LogNormalDistribution\n",
    "import numpy as np\n",
    "from qiskit.quantum_info import Statevector"
   ]
  },
  {
   "cell_type": "code",
   "execution_count": 2,
   "id": "c711893f",
   "metadata": {},
   "outputs": [],
   "source": [
    "# Implementing the log-normal-distribution\n",
    "\n",
    "\n",
    "# number of qubits to represent the uncertainty\n",
    "num_uncertainty_qubits = 3\n",
    "\n",
    "# parameters for considered random distribution\n",
    "S = 2.0 # initial spot price\n",
    "vol = 0.4 # volatility of 40%\n",
    "r = 0.05 # annual interest rate of 4%\n",
    "T = 300 / 365 # 40 days to maturity\n",
    "\n",
    "# resulting parameters for log-normal distribution\n",
    "mu = ((r - 0.5 * vol**2) * T + np.log(S))\n",
    "# sigma = vol * np.sqrt(T)\n",
    "sigma=0.1 # sigma=10%\n",
    "mean = np.exp(mu + sigma**2/2)\n",
    "variance = (np.exp(sigma**2) - 1) * np.exp(2*mu + sigma**2)\n",
    "stddev = np.sqrt(variance)\n",
    "\n",
    "# lowest and highest value considered for the spot price; in between, an equidistant discretization is considered.\n",
    "low  = np.maximum(0, mean - 3*stddev)\n",
    "high = mean + 3*stddev\n",
    "\n",
    "# construct A operator for QAE for the payoff function by\n",
    "# composing the uncertainty model and the objective\n",
    "uncertainty_model = LogNormalDistribution(num_uncertainty_qubits, mu=mu, sigma=sigma**2, bounds=(low, high))"
   ]
  },
  {
   "cell_type": "code",
   "execution_count": 3,
   "id": "b6ffea1a",
   "metadata": {},
   "outputs": [
    {
     "data": {
      "image/png": "[encoded data removed]",
      "text/plain": [
       "<Figure size 206.997x385.28 with 1 Axes>"
      ]
     },
     "execution_count": 3,
     "metadata": {},
     "output_type": "execute_result"
    }
   ],
   "source": [
    "uncertainty_model.draw('mpl')\n",
    "\n",
    "# Defining some constants\n",
    "num_of_qubits=3\n",
    "\n",
    "q=QuantumRegister(num_of_qubits,name=\"q\")\n",
    "q_c=QuantumRegister(1,name=\"c\")\n",
    "q_a=QuantumRegister(1,name=\"a\")\n",
    "c=ClassicalRegister(1)\n",
    "qc=QuantumCircuit(q,q_c,q_a,c)\n",
    "qc.append(uncertainty_model,range(num_uncertainty_qubits))\n",
    "qc.barrier()\n",
    "\n",
    "qc.draw(\"mpl\")"
   ]
  },
  {
   "cell_type": "code",
   "execution_count": 4,
   "id": "db5f5292",
   "metadata": {},
   "outputs": [
    {
     "data": {
      "text/latex": [
       "$$0.0312212441391199 |00000\\rangle+0.162642002615609 |00001\\rangle+0.403369810527805 |00010\\rangle+0.576584677752689 |00011\\rangle+0.542727511067761 |00100\\rangle+0.370185494863295 |00101\\rangle+0.196318957968993 |00110\\rangle+0.0853471329346257 |00111\\rangle$$"
      ],
      "text/plain": [
       "<IPython.core.display.Latex object>"
      ]
     },
     "execution_count": 4,
     "metadata": {},
     "output_type": "execute_result"
    }
   ],
   "source": [
    "psi=Statevector(qc)\n",
    "psi.draw(\"latex\")"
   ]
  },
  {
   "cell_type": "code",
   "execution_count": 5,
   "id": "b186c739",
   "metadata": {},
   "outputs": [],
   "source": [
    "# To see the log normal distribution\n",
    "\n",
    "# qc.measure(q,c)\n",
    "# qc.draw('mpl')\n",
    "\n",
    "# from qiskit import transpile\n",
    "# from qiskit.providers.aer import QasmSimulator\n",
    "# backend=QasmSimulator()\n",
    "# qc_compiled=transpile(qc,backend)\n",
    "# job = backend.run(qc_compiled,shot=1024)\n",
    "# result=job.result()\n",
    "# counts=result.get_counts()\n",
    "# print(counts)\n",
    "# from qiskit.visualization import plot_histogram\n",
    "# plot_histogram(counts)"
   ]
  },
  {
   "cell_type": "code",
   "execution_count": 7,
   "id": "365845fd",
   "metadata": {},
   "outputs": [
    {
     "data": {
      "image/png": "[encoded data removed]",
      "text/plain": [
       "<Figure size 327.397x385.28 with 1 Axes>"
      ]
     },
     "execution_count": 7,
     "metadata": {},
     "output_type": "execute_result"
    }
   ],
   "source": [
    "k=2 # Strike price\n",
    "\n",
    "# Implementing the comparitor circuit for the given strike price\n",
    "\n",
    "qc.cx(q[2],q_c[0])\n",
    "qc.barrier()\n",
    "qc.draw(\"mpl\")\n"
   ]
  },
  {
   "cell_type": "code",
   "execution_count": 8,
   "id": "85a759fc",
   "metadata": {},
   "outputs": [
    {
     "data": {
      "image/png": "[encoded data removed]",
      "text/plain": [
       "<Figure size 748.797x385.28 with 1 Axes>"
      ]
     },
     "execution_count": 8,
     "metadata": {},
     "output_type": "execute_result"
    }
   ],
   "source": [
    "from math import pi\n",
    "\n",
    "# constants\n",
    "C=0.25  # scalling factor\n",
    "i_max=(2**num_of_qubits)-1  #2^n-1\n",
    "\n",
    "# f(i)=f0+f1*i\n",
    "f0=-(2*C*k)/(i_max-k) \n",
    "f1=(2*C)/(i_max-k)\n",
    "\n",
    "g0=(pi/4)-C\n",
    "\n",
    "# circuit\n",
    "qc.ry(g0,q_a[0])\n",
    "\n",
    "# making the Ry[g(i)] part\n",
    "qc.ry(f0,q_a[0])\n",
    "qc.cry(f1,q_c[0],q_a[0])\n",
    "qc.cry(4*f1,q[2],q_a[0])\n",
    "qc.cry(2*f1,q[1],q_a[0])\n",
    "qc.cry(f1,q[0],q_a[0])\n",
    "\n",
    "qc.barrier()\n",
    "\n",
    "qc.draw('mpl')"
   ]
  },
  {
   "cell_type": "code",
   "execution_count": 9,
   "id": "41bf0b06",
   "metadata": {},
   "outputs": [
    {
     "data": {
      "text/latex": [
       "$$0.03078325480443 |00000\\rangle+0.15880316247023 |00001\\rangle+0.389002613602453 |00010\\rangle+0.547730475827462 |00011\\rangle+0.496066375410399 |01100\\rangle+0.330430527364476 |01101\\rangle + \\ldots +0.180114453803669 |10011\\rangle+0.220161991399504 |11100\\rangle+0.166892082474922 |11101\\rangle+0.0971547270534844 |11110\\rangle+0.0458905966267856 |11111\\rangle$$"
      ],
      "text/plain": [
       "<IPython.core.display.Latex object>"
      ]
     },
     "execution_count": 9,
     "metadata": {},
     "output_type": "execute_result"
    }
   ],
   "source": [
    "psi=Statevector(qc)\n",
    "psi.draw('latex')"
   ]
  },
  {
   "cell_type": "code",
   "execution_count": 10,
   "id": "dfb756ec",
   "metadata": {},
   "outputs": [
    {
     "data": {
      "image/png": "[encoded data removed]",
      "text/plain": [
       "<Figure size 808.997x385.28 with 1 Axes>"
      ]
     },
     "execution_count": 10,
     "metadata": {},
     "output_type": "execute_result"
    }
   ],
   "source": [
    "qc.measure(q_a,c)\n",
    "qc.draw('mpl')"
   ]
  },
  {
   "cell_type": "code",
   "execution_count": 11,
   "id": "9d9b2e3f",
   "metadata": {},
   "outputs": [
    {
     "name": "stdout",
     "output_type": "stream",
     "text": [
      "{'0': 2}\n"
     ]
    },
    {
     "data": {
      "image/png": "[encoded data removed]",
      "text/plain": [
       "<Figure size 504x360 with 1 Axes>"
      ]
     },
     "execution_count": 11,
     "metadata": {},
     "output_type": "execute_result"
    }
   ],
   "source": [
    "from qiskit import transpile\n",
    "from qiskit.providers.aer import QasmSimulator\n",
    "backend=QasmSimulator()\n",
    "qc_compiled=transpile(qc,backend)\n",
    "job = backend.run(qc_compiled,shots=2)\n",
    "result=job.result()\n",
    "counts=result.get_counts()\n",
    "print(counts)\n",
    "from qiskit.visualization import plot_histogram\n",
    "plot_histogram(counts,sort=\"value\")"
   ]
  },
  {
   "cell_type": "code",
   "execution_count": 18,
   "id": "794e1510",
   "metadata": {},
   "outputs": [
    {
     "name": "stdout",
     "output_type": "stream",
     "text": [
      "{'0': 6, '1': 2}\n",
      "{'0': 26, '1': 6}\n",
      "{'1': 22, '0': 106}\n",
      "{'0': 436, '1': 76}\n",
      "{'0': 1799, '1': 249}\n",
      "{'0': 7097, '1': 1095}\n",
      "expected payoff for m = 3  is = 0.25\n",
      "expected payoff for m = 5  is = 0.1875\n",
      "expected payoff for m = 7  is = 0.171875\n",
      "expected payoff for m = 9  is = 0.1484375\n",
      "expected payoff for m = 11  is = 0.12158203125\n",
      "expected payoff for m = 13  is = 0.1336669921875\n"
     ]
    }
   ],
   "source": [
    "from qiskit import transpile\n",
    "from qiskit.providers.aer import QasmSimulator\n",
    "\n",
    "m=[3,5,7,9,11,13]  #different no.of shots\n",
    "a_l=[]  # stores the expected payoff for different no.of shots\n",
    "\n",
    "for i in m:\n",
    "    M=2**i\n",
    "    backend=QasmSimulator()\n",
    "    qc_compiled=transpile(qc,backend)\n",
    "    job = backend.run(qc_compiled,shots=M)\n",
    "    result=job.result()\n",
    "    counts=result.get_counts()\n",
    "    print(counts)\n",
    "    a_l+=[counts[\"1\"]/(2**i)]\n",
    "\n",
    "for i in range(len(a_l)):\n",
    "    print(\"expected payoff for m =\",m[i],\" is =\",a_l[i])\n",
    "    \n",
    "    "
   ]
  },
  {
   "cell_type": "markdown",
   "id": "b49ac033",
   "metadata": {},
   "source": [
    "## Estimation of the payoff of the European call option using  Black-Scholes-Merton model(Classical method)"
   ]
  },
  {
   "cell_type": "code",
   "execution_count": 19,
   "id": "a75aef2a",
   "metadata": {},
   "outputs": [],
   "source": [
    "import numpy as np\n",
    "import scipy.stats as si\n",
    "import sympy as sy\n",
    "from sympy.stats import Normal, cdf"
   ]
  },
  {
   "cell_type": "code",
   "execution_count": 20,
   "id": "c911d3a0",
   "metadata": {},
   "outputs": [],
   "source": [
    "def euro_vanilla_call(S, K, T, r, sigma):\n",
    "    \n",
    "    #S: spot price\n",
    "    #K: strike price\n",
    "    #T: time to maturity\n",
    "    #r: interest rate\n",
    "    #sigma: volatility of underlying asset\n",
    "    \n",
    "    d1 = (np.log(S / K) + (r + 0.5 * sigma ** 2) * T) / (sigma * np.sqrt(T))\n",
    "    d2 = (np.log(S / K) + (r - 0.5 * sigma ** 2) * T) / (sigma * np.sqrt(T))\n",
    "    \n",
    "    call = (S * si.norm.cdf(d1, 0.0, 1.0) - K * np.exp(-r * T) * si.norm.cdf(d2, 0.0, 1.0))\n",
    "    \n",
    "    return call"
   ]
  },
  {
   "cell_type": "code",
   "execution_count": 21,
   "id": "57006ddc",
   "metadata": {},
   "outputs": [
    {
     "name": "stdout",
     "output_type": "stream",
     "text": [
      "0.11826974870793228\n"
     ]
    }
   ],
   "source": [
    "print(euro_vanilla_call(S, k, T, r, sigma))"
   ]
  }
 ],
 "metadata": {
  "kernelspec": {
   "display_name": "Python 3 (ipykernel)",
   "language": "python",
   "name": "python3"
  },
  "language_info": {
   "codemirror_mode": {
    "name": "ipython",
    "version": 3
   },
   "file_extension": ".py",
   "mimetype": "text/x-python",
   "name": "python",
   "nbconvert_exporter": "python",
   "pygments_lexer": "ipython3",
   "version": "3.9.12"
  }
 },
 "nbformat": 4,
 "nbformat_minor": 5
}
